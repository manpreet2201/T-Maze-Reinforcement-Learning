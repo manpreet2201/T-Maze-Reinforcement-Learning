{
  "nbformat": 4,
  "nbformat_minor": 0,
  "metadata": {
    "colab": {
      "name": "Copy of assignment8.ipynb",
      "provenance": [],
      "collapsed_sections": []
    },
    "kernelspec": {
      "name": "python3",
      "display_name": "Python 3"
    }
  },
  "cells": [
    {
      "cell_type": "markdown",
      "metadata": {
        "id": "I7FT0RDpVm8_"
      },
      "source": [
        "Part a) Modifying the program RLmlp,10 states are represented in the linear maze within a tabular representation of the states. The rewards at state 0  set at 1, and the rewards at state 9  set to two. The reward on all other states is 0. The discount factor  set to gamma=0.8. "
      ]
    },
    {
      "cell_type": "code",
      "metadata": {
        "id": "GBj4RcUixVOI"
      },
      "source": [
        "import numpy as np\n",
        "import matplotlib.pyplot as plt\n",
        "from keras import models, layers, optimizers\n",
        "\n",
        "def tau(s,a):\n",
        "    if (s[0] and s[9]) == 0 : s=np.roll(s,a)\n",
        "    return s\n",
        "\n",
        "def rho(s):\n",
        "    return ((s[0]==1)+2*(s[9]==1))    \n",
        "\n",
        "def terminal_state(s):\n",
        "    return (s[0]==1 or s[9]==1)    \n",
        "\n",
        "gamma=0.8\n",
        "invT = 1"
      ],
      "execution_count": 22,
      "outputs": []
    },
    {
      "cell_type": "code",
      "metadata": {
        "id": "-p7fNZJAxr6P"
      },
      "source": [
        "# the network\n",
        "inputs = layers.Input(shape=(10,))\n",
        "h = layers.Dense(20, activation='relu')(inputs)\n",
        "outputs = layers.Dense(2, activation='linear')(h)\n",
        "\n",
        "model = models.Model(inputs=inputs, outputs=outputs)\n",
        "RMSprop = optimizers.RMSprop(lr=0.01)\n",
        "model.compile(loss='mse', optimizer=RMSprop)"
      ],
      "execution_count": 23,
      "outputs": []
    },
    {
      "cell_type": "code",
      "metadata": {
        "id": "hLEgFm7p2fgf"
      },
      "source": [
        "for trial in range(400):\n",
        "    s= np.array([0,0,0,0,1,0,0,0,0,0])\n",
        "    for t in range(0,10):\n",
        "        if terminal_state(s): break\n",
        "        if trial > 30 and invT > 0.1: invT -= 0.001\n",
        "        prediction=model.predict(s.reshape(1,10), steps=1, verbose=0)\n",
        "        aidx=np.argmax(prediction)\n",
        "        if np.random.rand() < invT : aidx=1-aidx\n",
        "        a=2*aidx-1\n",
        "        next_s = tau(s,a)\n",
        "        if terminal_state(next_s): \n",
        "            y = rho(next_s)\n",
        "        else:\n",
        "            y = gamma*np.max(model.predict(next_s.reshape(1,10), steps=1, verbose=0))\n",
        "        prediction[0,aidx]=y\n",
        "        model.fit(s.reshape(1,10), prediction, epochs=1, verbose=0)\n",
        "        s = np.copy(next_s)\n"
      ],
      "execution_count": 24,
      "outputs": []
    },
    {
      "cell_type": "markdown",
      "metadata": {
        "id": "CcsLq15hWsvj"
      },
      "source": [
        "Computed Q values and policies from trained model"
      ]
    },
    {
      "cell_type": "code",
      "metadata": {
        "colab": {
          "base_uri": "https://localhost:8080/"
        },
        "id": "Hs0vIU9T2iHq",
        "outputId": "f5ec2da0-c21f-45ca-bb5b-47d2247219ac"
      },
      "source": [
        "policy = np.zeros(10)\n",
        "Q=[]\n",
        "s = np.array([1,0,0,0,0,0,0,0,0,0])\n",
        "\n",
        "for i in range(0,10):\n",
        "    Qs=model.predict(s.reshape(1,10), steps=1)\n",
        "    Q.append(Qs)\n",
        "    aidx=np.argmax(Qs)\n",
        "    policy[i]=2*aidx-1\n",
        "    s = np.roll(s,1)\n",
        "print('Qvalues:', np.transpose(Q))\n",
        "print('policy:',np.transpose(policy))"
      ],
      "execution_count": 25,
      "outputs": [
        {
          "output_type": "stream",
          "text": [
            "Qvalues: [[[0.5527975  0.85979396 0.6920488  0.6576191  0.46879047 0.6191393\n",
            "   0.7462076  0.98538595 1.271344   0.58717245]]\n",
            "\n",
            " [[0.8877659  0.62498385 0.49571478 0.6049864  0.78184664 1.0031447\n",
            "   1.2045466  1.5537133  1.9262716  0.63368785]]]\n",
            "policy: [ 1. -1. -1. -1.  1.  1.  1.  1.  1.  1.]\n"
          ],
          "name": "stdout"
        }
      ]
    },
    {
      "cell_type": "markdown",
      "metadata": {
        "id": "OpMmYfJ2Wvop"
      },
      "source": [
        "Part b) Program where the state input is given with a simple number representing the state. "
      ]
    },
    {
      "cell_type": "code",
      "metadata": {
        "id": "ij3aXAPP399Z"
      },
      "source": [
        "\n",
        "def tau(s,a):\n",
        "    if (s != 0 and s != 9) : s = s+a\n",
        "    return s\n",
        "\n",
        "def rho(s):\n",
        "    return ((s == 0)+2*(s == 9))    \n",
        "\n",
        "def terminal_state(s):\n",
        "    return (s==0 or s==9)    \n",
        "\n",
        "gamma=0.8\n",
        "invT = 1"
      ],
      "execution_count": 26,
      "outputs": []
    },
    {
      "cell_type": "code",
      "metadata": {
        "id": "JYYXR-FCtqPw"
      },
      "source": [
        "# the network\n",
        "inputs = layers.Input(shape=(1,))\n",
        "h = layers.Dense(10, activation='relu')(inputs)\n",
        "outputs = layers.Dense(2, activation='linear')(h)\n",
        "\n",
        "model = models.Model(inputs=inputs, outputs=outputs)\n",
        "RMSprop = optimizers.RMSprop(lr=0.01)\n",
        "model.compile(loss='mse', optimizer=RMSprop)"
      ],
      "execution_count": 27,
      "outputs": []
    },
    {
      "cell_type": "code",
      "metadata": {
        "id": "Y_JOujUVua0r"
      },
      "source": [
        "for trial in range(400):\n",
        "    input = 4\n",
        "    s= np.array([input])\n",
        "    for t in range(0,10):\n",
        "        if terminal_state(s): break\n",
        "        if trial > 10 and invT > 0.1: invT -= 0.001\n",
        "        prediction=model.predict(s.reshape(1,1), steps=1, verbose=0)\n",
        "        aidx=np.argmax(prediction)\n",
        "        if np.random.rand() < invT : aidx=1-aidx\n",
        "        a=2*aidx-1\n",
        "        next_s = tau(s,a)\n",
        "        if terminal_state(next_s): \n",
        "            y = rho(next_s)\n",
        "        else:\n",
        "            y = gamma*np.max(model.predict(next_s.reshape(1,1), steps=1, verbose=0))\n",
        "        prediction[0,aidx]=y\n",
        "        model.fit(s.reshape(1,1), prediction, epochs=1, verbose=0)\n",
        "        s = np.copy(next_s)\n"
      ],
      "execution_count": 28,
      "outputs": []
    },
    {
      "cell_type": "markdown",
      "metadata": {
        "id": "a0Mp80qOW_vv"
      },
      "source": [
        "Computed Q values and policies from trained model"
      ]
    },
    {
      "cell_type": "code",
      "metadata": {
        "colab": {
          "base_uri": "https://localhost:8080/"
        },
        "id": "WJ7krXIEuvVa",
        "outputId": "2791da4a-5bdc-4fdd-bcff-252110907586"
      },
      "source": [
        "policy = np.zeros(10)\n",
        "Q=[]\n",
        "s = np.array([0])\n",
        "for i in range(0,10):\n",
        "    Qs=model.predict(s.reshape(1,1), steps=1)\n",
        "    Q.append(Qs)\n",
        "    aidx=np.argmax(Qs)\n",
        "    policy[i]=2*aidx-1\n",
        "    s = s+1\n",
        "print('Q value:',np.transpose(Q))\n",
        "print('policy:',np.transpose(policy))"
      ],
      "execution_count": 29,
      "outputs": [
        {
          "output_type": "stream",
          "text": [
            "Q value: [[[ 1.1015149   1.001903    0.8005586   0.638415    0.5216539\n",
            "    0.4048928   0.2881317   0.17351794  0.06296086 -0.04759622]]\n",
            "\n",
            " [[ 0.8446406   0.61589694  0.40262255  0.30086264  0.3253796\n",
            "    0.34989658  0.37441355  0.39706606  0.41619626  0.43532646]]]\n",
            "policy: [-1. -1. -1. -1. -1. -1.  1.  1.  1.  1.]\n"
          ],
          "name": "stdout"
        }
      ]
    },
    {
      "cell_type": "markdown",
      "metadata": {
        "id": "ixNuwK9sXCG_"
      },
      "source": [
        "Part c) Program where a trained network is used to recognise a hand-written number from MNIST that then becomes the input."
      ]
    },
    {
      "cell_type": "code",
      "metadata": {
        "colab": {
          "base_uri": "https://localhost:8080/",
          "height": 309
        },
        "id": "mKrKt_RKxV4H",
        "outputId": "3952260b-2f4a-430c-99c8-a93b0483177f"
      },
      "source": [
        "import numpy as np\n",
        "import matplotlib.pyplot as plt\n",
        "from keras import models, layers, optimizers, datasets, utils, losses\n",
        "\n",
        "(x_train, y_train), (x_test, y_test) = datasets.mnist.load_data()\n",
        "print(np.shape(x_train))\n",
        "plt.matshow(255-x_train[5,:,:], cmap='gray')"
      ],
      "execution_count": 30,
      "outputs": [
        {
          "output_type": "stream",
          "text": [
            "(60000, 28, 28)\n"
          ],
          "name": "stdout"
        },
        {
          "output_type": "execute_result",
          "data": {
            "text/plain": [
              "<matplotlib.image.AxesImage at 0x7f56fa84d198>"
            ]
          },
          "metadata": {
            "tags": []
          },
          "execution_count": 30
        },
        {
          "output_type": "display_data",
          "data": {
            "image/png": "[encoded data removed]",
            "text/plain": [
              "<Figure size 288x288 with 1 Axes>"
            ]
          },
          "metadata": {
            "tags": [],
            "needs_background": "light"
          }
        }
      ]
    },
    {
      "cell_type": "code",
      "metadata": {
        "colab": {
          "base_uri": "https://localhost:8080/"
        },
        "id": "xVX8TnJ4xuU-",
        "outputId": "2f58ca20-07aa-463d-ee1a-fe9f844bbc37"
      },
      "source": [
        "x_train = x_train.reshape(60000, 28, 28, 1)/255\n",
        "x_train = x_train[:1024,:,:,:]\n",
        "x_test = x_test.reshape(10000, 28, 28, 1)/255\n",
        "y_train = utils.to_categorical(y_train[:1024], 10)\n",
        "y_test = utils.to_categorical(y_test, 10)\n",
        "\n",
        "inputs = layers.Input(shape=(28, 28, 1,))\n",
        "x=layers.Conv2D(32, kernel_size=(3, 3),activation='relu')(inputs)\n",
        "x=layers.Conv2D(64, (3, 3), activation='relu')(x)\n",
        "x=layers.MaxPooling2D(pool_size=(2, 2))(x)\n",
        "x=layers.Dropout(0.25)(x)\n",
        "x=layers.Flatten()(x)\n",
        "x=layers.Dense(128, activation='relu')(x)\n",
        "x=layers.Dropout(0.5)(x)\n",
        "outputs=layers.Dense(10, activation='softmax')(x)\n",
        "\n",
        "model = models.Model(inputs=inputs, outputs=outputs)\n",
        "\n",
        "model.compile(loss=losses.categorical_crossentropy,\n",
        "              optimizer=optimizers.Adadelta(),\n",
        "              metrics=['accuracy'])\n",
        "\n",
        "model.fit(x_train, y_train,\n",
        "          batch_size=128,\n",
        "          epochs=10,\n",
        "          verbose=1,\n",
        "          validation_data=(x_test, y_test))\n"
      ],
      "execution_count": 31,
      "outputs": [
        {
          "output_type": "stream",
          "text": [
            "Epoch 1/10\n",
            "8/8 [==============================] - 7s 923ms/step - loss: 2.2991 - accuracy: 0.1426 - val_loss: 2.3001 - val_accuracy: 0.1214\n",
            "Epoch 2/10\n",
            "8/8 [==============================] - 7s 912ms/step - loss: 2.2991 - accuracy: 0.1152 - val_loss: 2.2995 - val_accuracy: 0.1221\n",
            "Epoch 3/10\n",
            "8/8 [==============================] - 7s 912ms/step - loss: 2.3002 - accuracy: 0.1426 - val_loss: 2.2989 - val_accuracy: 0.1229\n",
            "Epoch 4/10\n",
            "8/8 [==============================] - 7s 910ms/step - loss: 2.2987 - accuracy: 0.1299 - val_loss: 2.2984 - val_accuracy: 0.1238\n",
            "Epoch 5/10\n",
            "8/8 [==============================] - 7s 910ms/step - loss: 2.2985 - accuracy: 0.1338 - val_loss: 2.2978 - val_accuracy: 0.1249\n",
            "Epoch 6/10\n",
            "8/8 [==============================] - 7s 910ms/step - loss: 2.2965 - accuracy: 0.1426 - val_loss: 2.2972 - val_accuracy: 0.1260\n",
            "Epoch 7/10\n",
            "8/8 [==============================] - 7s 911ms/step - loss: 2.2920 - accuracy: 0.1357 - val_loss: 2.2966 - val_accuracy: 0.1271\n",
            "Epoch 8/10\n",
            "8/8 [==============================] - 7s 908ms/step - loss: 2.2936 - accuracy: 0.1406 - val_loss: 2.2961 - val_accuracy: 0.1282\n",
            "Epoch 9/10\n",
            "8/8 [==============================] - 7s 920ms/step - loss: 2.2942 - accuracy: 0.1406 - val_loss: 2.2955 - val_accuracy: 0.1302\n",
            "Epoch 10/10\n",
            "8/8 [==============================] - 7s 916ms/step - loss: 2.2947 - accuracy: 0.1426 - val_loss: 2.2949 - val_accuracy: 0.1315\n"
          ],
          "name": "stdout"
        },
        {
          "output_type": "execute_result",
          "data": {
            "text/plain": [
              "<tensorflow.python.keras.callbacks.History at 0x7f56facd5f98>"
            ]
          },
          "metadata": {
            "tags": []
          },
          "execution_count": 31
        }
      ]
    },
    {
      "cell_type": "code",
      "metadata": {
        "id": "y0ptXjBbxwT1"
      },
      "source": [
        "y_pred = model.predict(x_test)"
      ],
      "execution_count": 32,
      "outputs": []
    },
    {
      "cell_type": "code",
      "metadata": {
        "colab": {
          "base_uri": "https://localhost:8080/"
        },
        "id": "cdjaDFBTx_x7",
        "outputId": "54be8fe7-3f1c-4b0f-c4ac-732e6e48d86b"
      },
      "source": [
        "y_pred[1]\n"
      ],
      "execution_count": 33,
      "outputs": [
        {
          "output_type": "execute_result",
          "data": {
            "text/plain": [
              "array([0.1010065 , 0.10406297, 0.10054718, 0.09768872, 0.09274782,\n",
              "       0.09882107, 0.10310592, 0.09867769, 0.10133501, 0.10200706],\n",
              "      dtype=float32)"
            ]
          },
          "metadata": {
            "tags": []
          },
          "execution_count": 33
        }
      ]
    },
    {
      "cell_type": "code",
      "metadata": {
        "id": "JJ9E8L0oUl-1"
      },
      "source": [
        "import numpy as np\n",
        "import matplotlib.pyplot as plt\n",
        "from keras import models, layers, optimizers\n",
        "\n",
        "def tau(s,a):\n",
        "    if (s[0] and s[9]) == 0 : s=np.roll(s,a)\n",
        "    return s\n",
        "\n",
        "def rho(s):\n",
        "    return ((s[0]==1)+2*(s[9]==1))    \n",
        "\n",
        "def terminal_state(s):\n",
        "    return (s[0]==1 or s[9]==1)    \n",
        "\n",
        "gamma=0.8\n",
        "invT = 1"
      ],
      "execution_count": 34,
      "outputs": []
    },
    {
      "cell_type": "code",
      "metadata": {
        "id": "XKuk_bj7Useb"
      },
      "source": [
        "# the network\n",
        "inputs = layers.Input(shape=(10,))\n",
        "h = layers.Dense(20, activation='relu')(inputs)\n",
        "outputs = layers.Dense(2, activation='linear')(h)\n",
        "\n",
        "model = models.Model(inputs=inputs, outputs=outputs)\n",
        "RMSprop = optimizers.RMSprop(lr=0.01)\n",
        "model.compile(loss='mse', optimizer=RMSprop)"
      ],
      "execution_count": 35,
      "outputs": []
    },
    {
      "cell_type": "code",
      "metadata": {
        "id": "GCuUl1ylUvUU"
      },
      "source": [
        "for trial in range(400):\n",
        "    s= y_pred[1]\n",
        "    for t in range(0,10):\n",
        "        if terminal_state(s): break\n",
        "        if trial > 30 and invT > 0.1: invT -= 0.001\n",
        "        prediction=model.predict(s.reshape(1,10), steps=1, verbose=0)\n",
        "        aidx=np.argmax(prediction)\n",
        "        if np.random.rand() < invT : aidx=1-aidx\n",
        "        a=2*aidx-1\n",
        "        next_s = tau(s,a)\n",
        "        if terminal_state(next_s): \n",
        "            y = rho(next_s)\n",
        "        else:\n",
        "            y = gamma*np.max(model.predict(next_s.reshape(1,10), steps=1, verbose=0))\n",
        "        prediction[0,aidx]=y\n",
        "        model.fit(s.reshape(1,10), prediction, epochs=1, verbose=0)\n",
        "        s = np.copy(next_s)\n"
      ],
      "execution_count": 36,
      "outputs": []
    },
    {
      "cell_type": "markdown",
      "metadata": {
        "id": "OKR7BQJKXRco"
      },
      "source": [
        "Computed Q values and policies from trained model"
      ]
    },
    {
      "cell_type": "code",
      "metadata": {
        "colab": {
          "base_uri": "https://localhost:8080/"
        },
        "id": "v7k_syLFU2dB",
        "outputId": "b6bce4ea-4128-477f-adc9-14228a0d0611"
      },
      "source": [
        "policy = np.zeros(10)\n",
        "Q=[]\n",
        "s = np.array([1,0,0,0,0,0,0,0,0,0])\n",
        "\n",
        "for i in range(0,10):\n",
        "    Qs=model.predict(s.reshape(1,10), steps=1)\n",
        "    Q.append(Qs)\n",
        "    aidx=np.argmax(Qs)\n",
        "    policy[i]=2*aidx-1\n",
        "    s = np.roll(s,1)\n",
        "print('Qvalues::',np.transpose(Q))\n",
        "print('policy:',np.transpose(policy))"
      ],
      "execution_count": 37,
      "outputs": [
        {
          "output_type": "stream",
          "text": [
            "Qvalues:: [[[ 0.11960339 -0.03430711  0.17766713 -0.24672556  0.00318126\n",
            "    0.07185458 -0.01885923 -0.11575116 -0.25628853  0.0263079 ]]\n",
            "\n",
            " [[ 0.32696596  0.01218712  0.2522636   0.22359307  0.2993686\n",
            "    0.21260919  0.3414943   0.19178493  0.32430103  0.02827294]]]\n",
            "policy: [1. 1. 1. 1. 1. 1. 1. 1. 1. 1.]\n"
          ],
          "name": "stdout"
        }
      ]
    }
  ]
}